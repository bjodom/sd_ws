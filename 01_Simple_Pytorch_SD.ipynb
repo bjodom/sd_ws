{
 "cells": [
  {
   "cell_type": "markdown",
   "id": "2496ff39-ce84-4100-852f-6fdeddaed2fc",
   "metadata": {},
   "source": [
    "## Setup Pytorch to use Intel Extensions & Confirm GPU"
   ]
  },
  {
   "cell_type": "code",
   "execution_count": null,
   "id": "57cbf0c7-cec6-4069-9d1b-344dad6d94e8",
   "metadata": {},
   "outputs": [],
   "source": [
    "import os\n",
    "import sys\n",
    "\n",
    "username = os.environ.get('USER')\n",
    "user_bin_path = os.path.expanduser(f\"/home/{username}/.local/bin\")\n",
    "sys.path.append(user_bin_path)\n",
    "print(sys.path)"
   ]
  },
  {
   "cell_type": "markdown",
   "id": "d82785ee-2477-449a-b47a-699754d6fb7a",
   "metadata": {},
   "source": [
    "### Add necessary packages."
   ]
  },
  {
   "cell_type": "code",
   "execution_count": null,
   "id": "b489ddae-6d15-4fba-983a-c9e7e40141ba",
   "metadata": {},
   "outputs": [],
   "source": [
    "!{sys.executable} -m pip install --upgrade diffusers accelerate transformers tqdm"
   ]
  },
  {
   "cell_type": "code",
   "execution_count": null,
   "id": "cfff05d3-9f84-4002-b8f0-f0b2fb0f2712",
   "metadata": {},
   "outputs": [],
   "source": [
    "import torch\n",
    "import intel_extension_for_pytorch as ipex\n",
    "print(ipex.xpu.get_device_name(0))"
   ]
  },
  {
   "cell_type": "markdown",
   "id": "c75217d2-9603-413f-9f84-85e97a6749c9",
   "metadata": {},
   "source": [
    "\n"
   ]
  },
  {
   "cell_type": "markdown",
   "id": "303f149e-971f-436a-9f80-bf9826708911",
   "metadata": {},
   "source": [
    "## Setup the Pipeline"
   ]
  },
  {
   "cell_type": "code",
   "execution_count": null,
   "id": "8d548efc-982c-44a2-a202-de22acf130c6",
   "metadata": {},
   "outputs": [],
   "source": [
    "from diffusers import StableDiffusionPipeline\n",
    "pipe = StableDiffusionPipeline.from_pretrained(\"/home/common/data/Big_Data/GenAI/runwayml/stable-diffusion-v1-5\",  \n",
    "                                               revision=\"fp16\", \n",
    "                                               torch_dtype=torch.float16)\n",
    "# move the model to Intel GPU MAX 1100\n",
    "pipe = pipe.to(\"xpu\")\n",
    "\n",
    "# model is ready for submitting queries\n",
    "pipe(\"A cat riding a surfboard on a big wave\").images[0]\n"
   ]
  }
 ],
 "metadata": {
  "kernelspec": {
   "display_name": "PyTorch GPU",
   "language": "python",
   "name": "pytorch-gpu"
  },
  "language_info": {
   "codemirror_mode": {
    "name": "ipython",
    "version": 3
   },
   "file_extension": ".py",
   "mimetype": "text/x-python",
   "name": "python",
   "nbconvert_exporter": "python",
   "pygments_lexer": "ipython3",
   "version": "3.9.19"
  }
 },
 "nbformat": 4,
 "nbformat_minor": 5
}
